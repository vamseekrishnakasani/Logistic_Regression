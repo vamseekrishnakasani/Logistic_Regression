{
 "cells": [
  {
   "cell_type": "code",
   "execution_count": 134,
   "id": "04e264d8-5889-4851-a9c1-38c82ce3848a",
   "metadata": {},
   "outputs": [],
   "source": [
    "import numpy as np\n",
    "import matplotlib.pyplot as plt\n",
    "import copy\n",
    "import math\n",
    "from matplotlib import colors"
   ]
  },
  {
   "cell_type": "code",
   "execution_count": 135,
   "id": "81068f6e-769f-4c9c-afd5-fd2d6e70d778",
   "metadata": {},
   "outputs": [],
   "source": [
    "X_train = np.array([[0.5, 1.5], [1,1], [1.5, 0.5], [3, 0.5], [2, 2], [1, 2.5]])\n",
    "y_train = np.array([0, 0, 0, 1, 1, 1]).reshape(-1,1) "
   ]
  },
  {
   "cell_type": "code",
   "execution_count": 136,
   "id": "3f0469a3-0061-462c-ac42-c68d461071a7",
   "metadata": {},
   "outputs": [],
   "source": [
    "def plot_data(X, y, ax, pos_label=\"y=1\", neg_label=\"y=0\", s=80, loc='best' ):\n",
    "    # Find Indices of Positive and Negative Examples\n",
    "    pos = y == 1\n",
    "    neg = y == 0\n",
    "    pos = pos.reshape(-1,) \n",
    "    neg = neg.reshape(-1,)\n",
    "\n",
    "    # Plot examples\n",
    "    ax.scatter(X[pos, 0], X[pos, 1], marker='x', s=s, c = 'red', label=pos_label)\n",
    "    ax.scatter(X[neg, 0], X[neg, 1], marker='o', s=s, label=neg_label, facecolors='none', edgecolors='blue', lw=3)\n",
    "    ax.legend(loc=loc)"
   ]
  },
  {
   "cell_type": "code",
   "execution_count": 147,
   "id": "b601f940-998f-4ae7-9a94-2d108396a051",
   "metadata": {},
   "outputs": [],
   "source": [
    "def plt_prob(ax, w_out, b_out):\n",
    "    \"\"\"Plots a decision boundary with shading to indicate the probability.\"\"\"\n",
    "    # Setup useful ranges and common linspaces\n",
    "    x0_space = np.linspace(0, 4, 100)\n",
    "    x1_space = np.linspace(0, 4, 100)\n",
    "\n",
    "    # Generate a grid for x0 and x1\n",
    "    tmp_x0, tmp_x1 = np.meshgrid(x0_space, x1_space)\n",
    "    z = np.zeros_like(tmp_x0)\n",
    "\n",
    "    # Compute probabilities for each point in the grid\n",
    "    for i in range(tmp_x0.shape[0]):\n",
    "        for j in range(tmp_x1.shape[1]):\n",
    "            z[i, j] = sigmoid(np.dot(w_out, np.array([tmp_x0[i, j], tmp_x1[i, j]])) + b_out)\n",
    "\n",
    "    # Use a predefined colormap without truncation\n",
    "    cmap = plt.get_cmap('Blues')\n",
    "\n",
    "    # Normalize the colormap between 0 and 1\n",
    "    norm = colors.Normalize(vmin=0, vmax=1)\n",
    "\n",
    "    # Plot the probabilities using pcolormesh\n",
    "    pcm = ax.pcolormesh(tmp_x0, tmp_x1, z, norm=norm, cmap=cmap, shading='nearest', alpha=0.9)\n",
    "\n",
    "    # Add a colorbar to the plot\n",
    "    ax.figure.colorbar(pcm, ax=ax)\n"
   ]
  },
  {
   "cell_type": "code",
   "execution_count": 148,
   "id": "4e27f562-4b17-4939-a064-1987aada92fa",
   "metadata": {},
   "outputs": [
    {
     "data": {
      "image/png": "[encoded data removed]",
      "text/plain": [
       "<Figure size 400x400 with 1 Axes>"
      ]
     },
     "metadata": {},
     "output_type": "display_data"
    }
   ],
   "source": [
    "fig, ax = plt.subplots(1, 1, figsize=(4,4))\n",
    "\n",
    "plot_data(X_train, y_train, ax)\n",
    "\n",
    "ax.set_title(\"Two Variables Plot\")\n",
    "ax.axis([0, 4, 0, 3.5])\n",
    "ax.set_ylabel('$x_1$')\n",
    "ax.set_xlabel('$x_0$')\n",
    "ax.legend()\n",
    "plt.show()"
   ]
  },
  {
   "cell_type": "code",
   "execution_count": 150,
   "id": "514bc65d-7dc8-4ce1-8536-b20e4858659a",
   "metadata": {},
   "outputs": [],
   "source": [
    "def sigmoid(z):\n",
    "    z = np.clip(z, -500, 500 )           # protect against overflow\n",
    "    g = 1.0/(1.0+np.exp(-z))\n",
    "    return g"
   ]
  },
  {
   "cell_type": "code",
   "execution_count": 159,
   "id": "5d41397c-9e72-496a-ae30-14d8bc88e28b",
   "metadata": {},
   "outputs": [],
   "source": [
    "def compute_cost_logistic(X, y, w, b):\n",
    "    m = X.shape[0]\n",
    "    \n",
    "    z = np.dot(X, w) + b\n",
    "    f_wb = sigmoid(z)\n",
    "    cost = (1 / m) * np.sum(-y * np.log(f_wb) - (1-y) * np.log(1-f_wb))\n",
    "             \n",
    "    return cost"
   ]
  },
  {
   "cell_type": "code",
   "execution_count": 160,
   "id": "909284ae-132e-46d8-9187-ca3d3a3057bb",
   "metadata": {},
   "outputs": [
    {
     "name": "stdout",
     "output_type": "stream",
     "text": [
      "4.701200718433105\n"
     ]
    }
   ],
   "source": [
    "weights_tmp = np.array([1,1])\n",
    "bias_tmp = -3\n",
    "print(compute_cost_logistic(X_train, y_train, weights_tmp, bias_tmp))"
   ]
  },
  {
   "cell_type": "code",
   "execution_count": 164,
   "id": "3409b58c-19db-4c8d-96b0-b256ef864df7",
   "metadata": {},
   "outputs": [],
   "source": [
    "def compute_gradient_logistic(X, y, w, b): \n",
    "    m,n = X.shape\n",
    "\n",
    "    f_wb = sigmoid(np.dot(X, w) + b)\n",
    "    y = y.ravel()\n",
    "    \n",
    "    dj_dw = (1 / m) * np.dot((f_wb  - y), X) \n",
    "    dj_db = (1 / m) * np.sum(f_wb  - y)                              \n",
    "        \n",
    "    return dj_db, dj_dw  "
   ]
  },
  {
   "cell_type": "code",
   "execution_count": 163,
   "id": "c322c277-e61f-4edd-a0d2-44ea279f0cd3",
   "metadata": {},
   "outputs": [
    {
     "name": "stdout",
     "output_type": "stream",
     "text": [
      "dj_db: 0.49861806546328574\n",
      "dj_dw: [0.498333393278696, 0.4988394298399669]\n"
     ]
    }
   ],
   "source": [
    "w_tmp = np.array([2.,3.])\n",
    "b_tmp = 1.\n",
    "dj_db_tmp, dj_dw_tmp = compute_gradient_logistic(X_train, y_train, w_tmp, b_tmp)\n",
    "print(f\"dj_db: {dj_db_tmp}\" )\n",
    "print(f\"dj_dw: {dj_dw_tmp.tolist()}\" )"
   ]
  },
  {
   "cell_type": "code",
   "execution_count": 122,
   "id": "5e33f856-fa2a-4d6a-b6b0-5d8fafdbfb63",
   "metadata": {},
   "outputs": [],
   "source": [
    "def gradient_descent(X, y, w_in, b_in, alpha, epochs): \n",
    "    # An array to store cost J and w's at each iteration primarily for graphing later\n",
    "    J_history = []\n",
    "    w = copy.deepcopy(w_in)  #avoid modifying global w within function\n",
    "    b = b_in\n",
    "    \n",
    "    for i in range(epochs):\n",
    "        # Calculate the gradient and update the parameters\n",
    "        dj_db, dj_dw = compute_gradient_logistic(X, y, w, b)   \n",
    "\n",
    "        # Update Parameters using w, b, alpha and gradient\n",
    "        w = w - alpha * dj_dw               \n",
    "        b = b - alpha * dj_db               \n",
    "      \n",
    "        # Save cost J at each iteration\n",
    "        if i<100000:      # prevent resource exhaustion \n",
    "            J_history.append( compute_cost_logistic(X, y, w, b) )\n",
    "\n",
    "        # Print cost every at intervals 10 times or as many iterations if < 10\n",
    "        if i% math.ceil(epochs / 10) == 0:\n",
    "            print(f\"Iteration {i:4d}: Cost {J_history[-1]}   \")\n",
    "        \n",
    "    return w, b, J_history       \n"
   ]
  },
  {
   "cell_type": "code",
   "execution_count": 123,
   "id": "fd746374-cfb1-4eec-a23a-3c8cead3473f",
   "metadata": {},
   "outputs": [
    {
     "name": "stdout",
     "output_type": "stream",
     "text": [
      "Iteration    0: Cost [0.68461047]   \n",
      "Iteration 1000: Cost [0.15909777]   \n",
      "Iteration 2000: Cost [0.08460064]   \n",
      "Iteration 3000: Cost [0.05705327]   \n",
      "Iteration 4000: Cost [0.04290759]   \n",
      "Iteration 5000: Cost [0.03433848]   \n",
      "Iteration 6000: Cost [0.0286038]   \n",
      "Iteration 7000: Cost [0.02450157]   \n",
      "Iteration 8000: Cost [0.0214237]   \n",
      "Iteration 9000: Cost [0.01903014]   \n",
      "\n",
      "updated parameters: w:[5.28123029 5.07815608], b:-14.222409982019837\n"
     ]
    }
   ],
   "source": [
    "w_tmp  = np.zeros_like(X_train[0])\n",
    "b_tmp  = 0.\n",
    "alpha = 0.1\n",
    "epochs = 10000\n",
    "\n",
    "w_out, b_out, _ = gradient_descent(X_train, y_train, w_tmp, b_tmp, alpha, epochs) \n",
    "print(f\"\\nupdated parameters: w:{w_out}, b:{b_out}\")"
   ]
  },
  {
   "cell_type": "code",
   "execution_count": 149,
   "id": "1def13a6-36e5-4502-b73a-d129db1a3f2e",
   "metadata": {},
   "outputs": [
    {
     "data": {
      "image/png": "[encoded data removed]",
      "text/plain": [
       "<Figure size 500x400 with 2 Axes>"
      ]
     },
     "metadata": {},
     "output_type": "display_data"
    }
   ],
   "source": [
    "fig,ax = plt.subplots(1,1,figsize=(5,4))\n",
    "# plot the probability \n",
    "plt_prob(ax, w_out, b_out)\n",
    "\n",
    "# Plot the original data\n",
    "ax.set_ylabel(r'$x_1$')\n",
    "ax.set_xlabel(r'$x_0$')   \n",
    "ax.axis([0, 4, 0, 3.5])\n",
    "\n",
    "plot_data(X_train, y_train, ax)\n",
    "\n",
    "# Plot the decision boundary\n",
    "x0 = -b_out/w_out[0]\n",
    "x1 = -b_out/w_out[1]\n",
    "ax.plot([0,x0],[x1,0], c='blue', lw=1)\n",
    "plt.show()"
   ]
  },
  {
   "cell_type": "code",
   "execution_count": null,
   "id": "f6989eb2-b839-4205-8c29-b19241679e14",
   "metadata": {},
   "outputs": [],
   "source": []
  }
 ],
 "metadata": {
  "kernelspec": {
   "display_name": "Python (jupyter_env)",
   "language": "python",
   "name": "jupyter_env"
  },
  "language_info": {
   "codemirror_mode": {
    "name": "ipython",
    "version": 3
   },
   "file_extension": ".py",
   "mimetype": "text/x-python",
   "name": "python",
   "nbconvert_exporter": "python",
   "pygments_lexer": "ipython3",
   "version": "3.10.12"
  }
 },
 "nbformat": 4,
 "nbformat_minor": 5
}
